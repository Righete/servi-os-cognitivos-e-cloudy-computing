{
  "nbformat": 4,
  "nbformat_minor": 0,
  "metadata": {
    "colab": {
      "provenance": []
    },
    "kernelspec": {
      "name": "python3",
      "display_name": "Python 3"
    },
    "language_info": {
      "name": "python"
    }
  },
  "cells": [
    {
      "cell_type": "code",
      "execution_count": 12,
      "metadata": {
        "id": "FIVx3M_sa1bu"
      },
      "outputs": [],
      "source": [
        "import requests\n",
        "\n",
        "def obter_imagem_MAST(api_key):\n",
        "    obter_imagem_MAST = f\"https://api.nasa.gov/mars-photos/api/v1/rovers/curiosity/photos?sol=1000&camera=mast&api_key={api_key}\" #faz a busca da imagem com o API\n",
        "\n",
        ""
      ]
    },
    {
      "cell_type": "code",
      "source": [
        "        print(\"O link da imagem é:\", obter_imagem_MAST ) #cria link na tela para aparecer a imagem\n"
      ],
      "metadata": {
        "colab": {
          "base_uri": "https://localhost:8080/"
        },
        "id": "Mz_boi7Bb6Jf",
        "outputId": "bca5c90e-0924-4fe8-9de4-35f51f043260"
      },
      "execution_count": 13,
      "outputs": [
        {
          "output_type": "stream",
          "name": "stdout",
          "text": [
            "O link da imagem é: <function obter_imagem_MAST at 0x7d5793538ee0>\n"
          ]
        }
      ]
    },
    {
      "cell_type": "code",
      "source": [
        "# Chama a função passando a chave da API\n",
        "obter_imagem_MAST(\"US5aFKwuomyR7CFjbP5nVEG6dSOy1gyweCWbWVSg\")"
      ],
      "metadata": {
        "id": "QmCp1O9icCPW"
      },
      "execution_count": 14,
      "outputs": []
    }
  ]
}